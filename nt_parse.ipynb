{
 "cells": [
  {
   "cell_type": "markdown",
   "metadata": {},
   "source": [
    "# Press ctrl/enter on input cells to run"
   ]
  },
  {
   "cell_type": "markdown",
   "metadata": {},
   "source": [
    "Which book would you like to parse?"
   ]
  },
  {
   "cell_type": "code",
   "execution_count": 2,
   "metadata": {
    "hide_input": true
   },
   "outputs": [
    {
     "name": "stdout",
     "output_type": "stream",
     "text": [
      "John\n"
     ]
    }
   ],
   "source": [
    "text = input()"
   ]
  },
  {
   "cell_type": "markdown",
   "metadata": {},
   "source": [
    "What word would you like to find?"
   ]
  },
  {
   "cell_type": "code",
   "execution_count": 3,
   "metadata": {
    "hide_input": true
   },
   "outputs": [
    {
     "name": "stdout",
     "output_type": "stream",
     "text": [
      "water\n"
     ]
    }
   ],
   "source": [
    "key_word = input()"
   ]
  },
  {
   "cell_type": "code",
   "execution_count": 4,
   "metadata": {
    "code_folding": [
     0
    ],
    "hide_input": true,
    "scrolled": true
   },
   "outputs": [
    {
     "name": "stdout",
     "output_type": "stream",
     "text": [
      "Occurence of \"water\" in Chapter 1:  3\n",
      "Occurence of \"water\" in Chapter 2:  4\n",
      "Occurence of \"water\" in Chapter 3:  2\n",
      "Occurence of \"water\" in Chapter 4:  11\n",
      "Occurence of \"water\" in Chapter 5:  1\n",
      "Occurence of \"water\" in Chapter 6:  0\n",
      "Occurence of \"water\" in Chapter 7:  1\n",
      "Occurence of \"water\" in Chapter 8:  0\n",
      "Occurence of \"water\" in Chapter 9:  0\n",
      "Occurence of \"water\" in Chapter 10:  0\n",
      "Occurence of \"water\" in Chapter 11:  0\n",
      "Occurence of \"water\" in Chapter 12:  0\n",
      "Occurence of \"water\" in Chapter 13:  1\n",
      "Occurence of \"water\" in Chapter 14:  0\n",
      "Occurence of \"water\" in Chapter 15:  0\n",
      "Occurence of \"water\" in Chapter 16:  0\n",
      "Occurence of \"water\" in Chapter 17:  0\n",
      "Occurence of \"water\" in Chapter 18:  0\n",
      "Occurence of \"water\" in Chapter 19:  1\n",
      "Occurence of \"water\" in Chapter 20:  0\n",
      "Occurence of \"water\" in Chapter 21:  0\n",
      "\n",
      "Total times that the word \"water\" occurs in John:  24\n",
      "\n",
      "Chapter where \"water\" occurs most frequently:  4\n"
     ]
    }
   ],
   "source": [
    "def nt_parse():\n",
    "    with open(\"Bible/\" + text + \".txt\") as book:\n",
    "        total_word_count = 0\n",
    "        chp_count = 0\n",
    "        max_chp = 0\n",
    "        words_in_chapter = []\n",
    "        for chapter in book:\n",
    "            chp_count += 1\n",
    "            word_count = 0\n",
    "            if key_word in chapter:\n",
    "                word_count += chapter.count(key_word)\n",
    "            words_in_chapter.append(word_count)\n",
    "            print(\"Occurence of \\\"{}\\\" in Chapter {}: \".format\n",
    "            (key_word, chp_count), word_count)\n",
    "            total_word_count += word_count\n",
    "            most_freq = max(words_in_chapter)\n",
    "        for x in words_in_chapter:\n",
    "            if total_word_count == 0:\n",
    "                max_chp = \"n/a\"\n",
    "            elif words_in_chapter.count(most_freq) > 1:\n",
    "                 max_chp = []\n",
    "                 for y, z in enumerate(words_in_chapter):\n",
    "                     if z == most_freq:\n",
    "                        max_chp.append(y + 1)\n",
    "            elif x == max(words_in_chapter):\n",
    "                max_chp = (words_in_chapter.index(x) + 1)\n",
    "        print(\"\\nTotal times that the word \\\"{}\\\" occurs in {}: \"\n",
    "             .format(key_word, text), total_word_count)\n",
    "        print(\"\\nChapter where \\\"{}\\\" occurs most frequently: \".format\n",
    "             (key_word), max_chp)\n",
    "nt_parse()"
   ]
  }
 ],
 "metadata": {
  "kernelspec": {
   "display_name": "Python 3",
   "language": "python",
   "name": "python3"
  },
  "language_info": {
   "codemirror_mode": {
    "name": "ipython",
    "version": 3
   },
   "file_extension": ".py",
   "mimetype": "text/x-python",
   "name": "python",
   "nbconvert_exporter": "python",
   "pygments_lexer": "ipython3",
   "version": "3.6.3"
  }
 },
 "nbformat": 4,
 "nbformat_minor": 2
}
