{
 "cells": [
  {
   "cell_type": "code",
   "execution_count": 10,
   "metadata": {},
   "outputs": [],
   "source": [
    "def nt_parse():\n",
    "    with open(\"Bible/\" + text + \".txt\") as book:\n",
    "        total_word_count = 0\n",
    "        chp_count = 0\n",
    "        max_chp = 0\n",
    "        words_in_chapter = []\n",
    "        for chapter in book:\n",
    "            chp_count += 1\n",
    "            word_count = 0\n",
    "            if key_word in chapter:\n",
    "                word_count += chapter.count(key_word)\n",
    "            words_in_chapter.append(word_count)\n",
    "            print(\"Occurence of \\\"{}\\\" in Chapter {}: \".format\n",
    "            (key_word, chp_count), word_count)\n",
    "            total_word_count += word_count\n",
    "            most_freq = max(words_in_chapter)\n",
    "        for x in words_in_chapter:\n",
    "            if total_word_count == 0:\n",
    "                max_chp = \"n/a\"\n",
    "            elif words_in_chapter.count(most_freq) > 1:\n",
    "                 max_chp = []\n",
    "                 for y, z in enumerate(words_in_chapter):\n",
    "                     if z == most_freq:\n",
    "                        max_chp.append(y + 1)\n",
    "            elif x == max(words_in_chapter):\n",
    "                max_chp = (words_in_chapter.index(x) + 1)\n",
    "        print(\"\\nTotal times that the word \\\"{}\\\" occurs in {}: \"\n",
    "             .format(key_word, text), total_word_count)\n",
    "        print(\"\\nChapter where \\\"{}\\\" occurs most frequently: \".format\n",
    "             (key_word), max_chp)"
   ]
  },
  {
   "cell_type": "code",
   "execution_count": 11,
   "metadata": {},
   "outputs": [
    {
     "name": "stdout",
     "output_type": "stream",
     "text": [
      "Which book would you like to parse?\n",
      "John\n"
     ]
    }
   ],
   "source": [
    "print(\"Which book would you like to parse?\")\n",
    "text = input()"
   ]
  },
  {
   "cell_type": "code",
   "execution_count": 12,
   "metadata": {},
   "outputs": [
    {
     "name": "stdout",
     "output_type": "stream",
     "text": [
      "What word would you like to find?\n",
      "Jesus\n"
     ]
    }
   ],
   "source": [
    "print(\"What word would you like to find?\")\n",
    "key_word = input()"
   ]
  },
  {
   "cell_type": "code",
   "execution_count": 13,
   "metadata": {},
   "outputs": [
    {
     "name": "stdout",
     "output_type": "stream",
     "text": [
      "Occurence of \"Jesus\" in Chapter 1:  11\n",
      "Occurence of \"Jesus\" in Chapter 2:  10\n",
      "Occurence of \"Jesus\" in Chapter 3:  5\n",
      "Occurence of \"Jesus\" in Chapter 4:  19\n",
      "Occurence of \"Jesus\" in Chapter 5:  9\n",
      "Occurence of \"Jesus\" in Chapter 6:  22\n",
      "Occurence of \"Jesus\" in Chapter 7:  10\n",
      "Occurence of \"Jesus\" in Chapter 8:  18\n",
      "Occurence of \"Jesus\" in Chapter 9:  8\n",
      "Occurence of \"Jesus\" in Chapter 10:  6\n",
      "Occurence of \"Jesus\" in Chapter 11:  25\n",
      "Occurence of \"Jesus\" in Chapter 12:  15\n",
      "Occurence of \"Jesus\" in Chapter 13:  15\n",
      "Occurence of \"Jesus\" in Chapter 14:  3\n",
      "Occurence of \"Jesus\" in Chapter 15:  0\n",
      "Occurence of \"Jesus\" in Chapter 16:  2\n",
      "Occurence of \"Jesus\" in Chapter 17:  2\n",
      "Occurence of \"Jesus\" in Chapter 18:  22\n",
      "Occurence of \"Jesus\" in Chapter 19:  21\n",
      "Occurence of \"Jesus\" in Chapter 20:  15\n",
      "Occurence of \"Jesus\" in Chapter 21:  19\n",
      "\n",
      "Total times that the word \"Jesus\" occurs in John:  257\n",
      "\n",
      "Chapter where \"Jesus\" occurs most frequently:  11\n"
     ]
    }
   ],
   "source": [
    "nt_parse()"
   ]
  },
  {
   "cell_type": "code",
   "execution_count": null,
   "metadata": {
    "collapsed": true
   },
   "outputs": [],
   "source": []
  }
 ],
 "metadata": {
  "kernelspec": {
   "display_name": "Python 3",
   "language": "python",
   "name": "python3"
  },
  "language_info": {
   "codemirror_mode": {
    "name": "ipython",
    "version": 3
   },
   "file_extension": ".py",
   "mimetype": "text/x-python",
   "name": "python",
   "nbconvert_exporter": "python",
   "pygments_lexer": "ipython3",
   "version": "3.6.3"
  }
 },
 "nbformat": 4,
 "nbformat_minor": 2
}
